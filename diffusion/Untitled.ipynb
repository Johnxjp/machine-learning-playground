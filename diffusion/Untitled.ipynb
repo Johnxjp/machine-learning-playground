{
 "cells": [
  {
   "cell_type": "code",
   "execution_count": 2,
   "id": "d10aea79-42c0-4cfe-9718-8e6189e28ad8",
   "metadata": {},
   "outputs": [],
   "source": [
    "import numpy as np"
   ]
  },
  {
   "cell_type": "code",
   "execution_count": 29,
   "id": "d03b0d4e-15d9-4e81-86ac-8e80616d851b",
   "metadata": {},
   "outputs": [
    {
     "name": "stdout",
     "output_type": "stream",
     "text": [
      "Mean: -0.14769589079817094 variance: 1.0321736928491732\n",
      "[Scaled] Mean: -0.14769589079817094 variance: 1.0321736928491732\n",
      "\n",
      "After\n",
      "Mean: -6.194781572989342 variance: 1910.4346309758912\n",
      "[Scaled] Mean: 0.06348828811096807 variance: 1.3885469844480332\n"
     ]
    }
   ],
   "source": [
    "beta = 0.1\n",
    "x = np.random.normal(size=(10, 10))\n",
    "x_norm = np.array(x)\n",
    "\n",
    "print(f\"Mean: {np.mean(x)} variance: {np.var(x)}\")\n",
    "print(f\"[Scaled] Mean: {np.mean(x_norm)} variance: {np.var(x_norm)}\")\n",
    "print()\n",
    "for i in range(1000):\n",
    "    noise = np.random.laplace(size=(10,10))\n",
    "    x = x + noise\n",
    "    x_norm = (np.sqrt(1 - beta) * x_norm + np.sqrt(beta) * noise)\n",
    "\n",
    "\n",
    "print(\"After\")\n",
    "print(f\"Mean: {np.mean(x)} variance: {np.var(x)}\")\n",
    "print(f\"[Scaled] Mean: {np.mean(x_norm)} variance: {np.var(x_norm)}\")"
   ]
  },
  {
   "cell_type": "code",
   "execution_count": null,
   "id": "bbf03a30-e2d7-45a1-8700-98e5af90c7bd",
   "metadata": {},
   "outputs": [],
   "source": []
  }
 ],
 "metadata": {
  "kernelspec": {
   "display_name": "Python 3 (ipykernel)",
   "language": "python",
   "name": "python3"
  },
  "language_info": {
   "codemirror_mode": {
    "name": "ipython",
    "version": 3
   },
   "file_extension": ".py",
   "mimetype": "text/x-python",
   "name": "python",
   "nbconvert_exporter": "python",
   "pygments_lexer": "ipython3",
   "version": "3.12.0"
  }
 },
 "nbformat": 4,
 "nbformat_minor": 5
}
