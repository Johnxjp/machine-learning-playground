{
 "cells": [
  {
   "cell_type": "code",
   "execution_count": 5,
   "id": "06c78f97-2885-42c1-9f19-094001015e97",
   "metadata": {},
   "outputs": [],
   "source": [
    "from PIL import Image\n",
    "import ipywidgets as widgets\n",
    "from IPython.display import clear_output\n",
    "from ipywidgets import interact, fixed, IntSlider"
   ]
  },
  {
   "cell_type": "code",
   "execution_count": 2,
   "id": "fca6b317-4d5a-4c1f-889b-66e7f16c1012",
   "metadata": {},
   "outputs": [
    {
     "data": {
      "application/vnd.jupyter.widget-view+json": {
       "model_id": "a78974e49d46403b8f653f3afea0154c",
       "version_major": 2,
       "version_minor": 0
      },
      "text/plain": [
       "interactive(children=(Checkbox(value=True, description='Add Colour'), Output()), _dom_classes=('widget-interac…"
      ]
     },
     "metadata": {},
     "output_type": "display_data"
    }
   ],
   "source": [
    "@interact(color=widgets.Checkbox(value=True, description=\"Add Colour\", disabled=False, continuous_update=True))\n",
    "def convert_image(color):\n",
    "    img = Image.open(\"./test_image.png\")\n",
    "    print(color)\n",
    "    # clear_output(wait=True)\n",
    "    return img if color else img.convert(\"L\") \n",
    "    # display(result)"
   ]
  },
  {
   "cell_type": "code",
   "execution_count": 3,
   "id": "f720cbb7-5ffd-4d91-849a-937c59881257",
   "metadata": {},
   "outputs": [
    {
     "data": {
      "application/vnd.jupyter.widget-view+json": {
       "model_id": "6a0d334b95d84d4888b80263c92cef43",
       "version_major": 2,
       "version_minor": 0
      },
      "text/plain": [
       "interactive(children=(IntSlider(value=5, description='a', max=15, min=-5), IntSlider(value=10, description='b'…"
      ]
     },
     "metadata": {},
     "output_type": "display_data"
    },
    {
     "data": {
      "text/plain": [
       "<function __main__.my_function(a, b)>"
      ]
     },
     "execution_count": 3,
     "metadata": {},
     "output_type": "execute_result"
    }
   ],
   "source": [
    "def my_function(a, b):\n",
    "    return a + b\n",
    "\n",
    "interact(my_function, a=5, b=10)"
   ]
  },
  {
   "cell_type": "code",
   "execution_count": 16,
   "id": "350c0f20-75f8-4e3a-9264-12dcc4a9f408",
   "metadata": {},
   "outputs": [
    {
     "data": {
      "application/vnd.jupyter.widget-view+json": {
       "model_id": "18fba4241b3f4619954f858a1a8ae2e6",
       "version_major": 2,
       "version_minor": 0
      },
      "text/plain": [
       "interactive(children=(IntSlider(value=0, description='Timestep:', max=999, step=10), Output()), _dom_classes=(…"
      ]
     },
     "metadata": {},
     "output_type": "display_data"
    },
    {
     "data": {
      "text/plain": [
       "<function __main__.visualize_noise(t=0)>"
      ]
     },
     "execution_count": 16,
     "metadata": {},
     "output_type": "execute_result"
    }
   ],
   "source": [
    "import numpy as np\n",
    "import matplotlib.pyplot as plt\n",
    "from PIL import Image\n",
    "import requests\n",
    "from io import BytesIO\n",
    "import torch\n",
    "from torchvision import transforms\n",
    "from matplotlib import cm\n",
    "\n",
    "# Define a few simple noise schedulers\n",
    "class LinearScheduler:\n",
    "    def __init__(self, beta_start=0.0001, beta_end=0.02, timesteps=1000):\n",
    "        self.beta_start = beta_start\n",
    "        self.beta_end = beta_end\n",
    "        self.timesteps = timesteps\n",
    "        \n",
    "        # Linear schedule\n",
    "        self.betas = torch.linspace(beta_start, beta_end, timesteps)\n",
    "        self.alphas = 1.0 - self.betas\n",
    "        self.alphas_cumprod = torch.cumprod(self.alphas, dim=0)\n",
    "        \n",
    "    def add_noise(self, img, t):\n",
    "        \"\"\"Add noise to image at timestep t\"\"\"\n",
    "        if isinstance(t, int):\n",
    "            t = torch.tensor([t])\n",
    "        \n",
    "        sqrt_alpha_cumprod = torch.sqrt(self.alphas_cumprod[t])\n",
    "        sqrt_one_minus_alpha_cumprod = torch.sqrt(1 - self.alphas_cumprod[t])\n",
    "        \n",
    "        noise = torch.randn_like(img)\n",
    "        noisy_img = sqrt_alpha_cumprod * img + sqrt_one_minus_alpha_cumprod * noise\n",
    "        return noisy_img, noise\n",
    "\n",
    "class CosineScheduler:\n",
    "    def __init__(self, timesteps=1000, s=0.008):\n",
    "        self.timesteps = timesteps\n",
    "        \n",
    "        # Cosine schedule as proposed in https://arxiv.org/abs/2102.09672\n",
    "        steps = timesteps + 1\n",
    "        x = torch.linspace(0, timesteps, steps)\n",
    "        alphas_cumprod = torch.cos(((x / timesteps) + s) / (1 + s) * torch.pi * 0.5) ** 2\n",
    "        alphas_cumprod = alphas_cumprod / alphas_cumprod[0]\n",
    "        betas = 1 - (alphas_cumprod[1:] / alphas_cumprod[:-1])\n",
    "        betas = torch.clip(betas, 0.0001, 0.9999)\n",
    "        \n",
    "        self.betas = betas\n",
    "        self.alphas = 1.0 - betas\n",
    "        self.alphas_cumprod = torch.cumprod(self.alphas, dim=0)\n",
    "    \n",
    "    def add_noise(self, img, t):\n",
    "        \"\"\"Add noise to image at timestep t\"\"\"\n",
    "        if isinstance(t, int):\n",
    "            t = torch.tensor([t])\n",
    "        \n",
    "        sqrt_alpha_cumprod = torch.sqrt(self.alphas_cumprod[t])\n",
    "        sqrt_one_minus_alpha_cumprod = torch.sqrt(1 - self.alphas_cumprod[t])\n",
    "        \n",
    "        noise = torch.randn_like(img)\n",
    "        noisy_img = sqrt_alpha_cumprod * img + sqrt_one_minus_alpha_cumprod * noise\n",
    "        return noisy_img, noise\n",
    "\n",
    "class QuadraticScheduler:\n",
    "    def __init__(self, beta_start=0.0001, beta_end=0.02, timesteps=1000):\n",
    "        self.beta_start = beta_start\n",
    "        self.beta_end = beta_end\n",
    "        self.timesteps = timesteps\n",
    "        \n",
    "        # Quadratic schedule\n",
    "        self.betas = torch.linspace(0, 1, timesteps) ** 2 * (beta_end - beta_start) + beta_start\n",
    "        self.alphas = 1.0 - self.betas\n",
    "        self.alphas_cumprod = torch.cumprod(self.alphas, dim=0)\n",
    "    \n",
    "    def add_noise(self, img, t):\n",
    "        \"\"\"Add noise to image at timestep t\"\"\"\n",
    "        if isinstance(t, int):\n",
    "            t = torch.tensor([t])\n",
    "        \n",
    "        sqrt_alpha_cumprod = torch.sqrt(self.alphas_cumprod[t])\n",
    "        sqrt_one_minus_alpha_cumprod = torch.sqrt(1 - self.alphas_cumprod[t])\n",
    "        \n",
    "        noise = torch.randn_like(img)\n",
    "        noisy_img = sqrt_alpha_cumprod * img + sqrt_one_minus_alpha_cumprod * noise\n",
    "        return noisy_img, noise\n",
    "\n",
    "# Load a sample image\n",
    "def load_sample_image():\n",
    "    # Either load an image from a URL\n",
    "    img = Image.open(\"./test_image.png\")\n",
    "    \n",
    "    # Transform to tensor\n",
    "    transform = transforms.Compose([\n",
    "        transforms.Resize((256, 256)),\n",
    "        transforms.ToTensor(),  # Scales to [0, 1]\n",
    "        transforms.Lambda(lambda x: x * 2 - 1)  # Scale to [-1, 1]\n",
    "    ])\n",
    "    \n",
    "    return transform(img).unsqueeze(0)\n",
    "\n",
    "# Create the schedulers\n",
    "linear_scheduler = LinearScheduler()\n",
    "cosine_scheduler = CosineScheduler()\n",
    "quadratic_scheduler = QuadraticScheduler()\n",
    "\n",
    "# Load the sample image\n",
    "sample_img = load_sample_image()\n",
    "\n",
    "# Create the visualization\n",
    "def visualize_noise(t=0):\n",
    "    t = int(t)\n",
    "    fig, axes = plt.subplots(1, 3, figsize=(18, 6))\n",
    "    \n",
    "    # Set a consistent random seed for each visualization call\n",
    "    torch.manual_seed(42)\n",
    "    \n",
    "    # Add noise to the image with each scheduler\n",
    "    noisy_linear, _ = linear_scheduler.add_noise(sample_img, t)\n",
    "    \n",
    "    torch.manual_seed(42)\n",
    "    noisy_cosine, _ = cosine_scheduler.add_noise(sample_img, t)\n",
    "    \n",
    "    torch.manual_seed(42)\n",
    "    noisy_quadratic, _ = quadratic_scheduler.add_noise(sample_img, t)\n",
    "    \n",
    "    # Function to denormalize and convert to numpy for display\n",
    "    def process_for_display(img_tensor):\n",
    "        img = img_tensor.squeeze(0).permute(1, 2, 0).detach().numpy()\n",
    "        img = (img + 1) / 2  # Scale from [-1, 1] to [0, 1]\n",
    "        img = np.clip(img, 0, 1)\n",
    "        return img\n",
    "    \n",
    "    # Display images\n",
    "    axes[0].imshow(process_for_display(noisy_linear))\n",
    "    axes[0].set_title(f'Linear Scheduler (t={t})')\n",
    "    axes[0].axis('off')\n",
    "        \n",
    "    axes[1].imshow(process_for_display(noisy_quadratic))\n",
    "    axes[1].set_title(f'Quadratic Scheduler (t={t})')\n",
    "    axes[1].axis('off')\n",
    "\n",
    "    axes[2].imshow(process_for_display(noisy_cosine))\n",
    "    axes[2].set_title(f'Cosine Scheduler (t={t})')\n",
    "    axes[2].axis('off')\n",
    "    \n",
    "    plt.tight_layout()\n",
    "    plt.show()\n",
    "    \n",
    "    # Display plots of noise schedules\n",
    "    fig, ax = plt.subplots(figsize=(10, 4))\n",
    "    timesteps = np.arange(0, 1000)\n",
    "    ax.plot(timesteps, linear_scheduler.alphas_cumprod.numpy(), label='Linear α_cumprod')\n",
    "    ax.plot(timesteps, cosine_scheduler.alphas_cumprod.numpy(), label='Cosine α_cumprod')\n",
    "    ax.plot(timesteps, quadratic_scheduler.alphas_cumprod.numpy(), label='Quadratic α_cumprod')\n",
    "    \n",
    "    # Highlight current position\n",
    "    ax.axvline(x=t, color='r', linestyle='--')\n",
    "    \n",
    "    ax.set_xlabel('Timestep')\n",
    "    ax.set_ylabel('Cumulative Product of Alphas')\n",
    "    ax.set_title('Noise Schedule Comparison')\n",
    "    ax.legend()\n",
    "    plt.tight_layout()\n",
    "    plt.show()\n",
    "\n",
    "# Create interactive widget\n",
    "interactive_plot = interact(visualize_noise, t=IntSlider(min=0, max=999, step=10, value=0, description='Timestep:'), continuous_update=False)\n",
    "output = interactive_plot.widget.children[-1]\n",
    "output.layout.height = '700px'\n",
    "interactive_plot"
   ]
  },
  {
   "cell_type": "code",
   "execution_count": null,
   "id": "62c577a5-eb8a-4e05-b7fe-8cb50396a6fd",
   "metadata": {},
   "outputs": [],
   "source": []
  }
 ],
 "metadata": {
  "kernelspec": {
   "display_name": "Python 3 (ipykernel)",
   "language": "python",
   "name": "python3"
  },
  "language_info": {
   "codemirror_mode": {
    "name": "ipython",
    "version": 3
   },
   "file_extension": ".py",
   "mimetype": "text/x-python",
   "name": "python",
   "nbconvert_exporter": "python",
   "pygments_lexer": "ipython3",
   "version": "3.12.0"
  }
 },
 "nbformat": 4,
 "nbformat_minor": 5
}
