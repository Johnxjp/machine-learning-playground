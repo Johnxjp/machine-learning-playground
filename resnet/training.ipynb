{
 "cells": [
  {
   "cell_type": "code",
   "execution_count": null,
   "id": "606a9934-3d0f-4b45-874f-1778cf8993a2",
   "metadata": {},
   "outputs": [],
   "source": [
    "%load_ext autoreload\n",
    "%autoreload 2"
   ]
  },
  {
   "cell_type": "code",
   "execution_count": null,
   "id": "36ad3d3c-05c0-4d03-acc2-494efb4b78fa",
   "metadata": {},
   "outputs": [],
   "source": [
    "import numpy as np\n",
    "import torch\n",
    "import torch.nn as nn\n",
    "import torch.optim as optim\n",
    "from torch.utils.data import DataLoader\n",
    "import torchvision\n",
    "\n",
    "from model import Resnet, ResidualCNNLayer, ShortcutPadLayer\n",
    "from utils import load_images, unpickle, display_image\n",
    "from data import Cifar10DatasetFromArray, Cifar10DatasetFromFile"
   ]
  },
  {
   "cell_type": "code",
   "execution_count": null,
   "id": "4023b007-3f2c-4179-8428-22f45ef31c3f",
   "metadata": {},
   "outputs": [],
   "source": [
    "# Images are pixel values 0-255\n",
    "images, labels = load_images(\"../datasets/cifar-10-batches-py/data_batch_1\")\n",
    "label_metadata = unpickle(\"../datasets/cifar-10-batches-py/batches.meta\")\n",
    "label_names = [bytes.decode(label) for label in label_metadata[\"label_names\"]]"
   ]
  },
  {
   "cell_type": "code",
   "execution_count": null,
   "id": "2a5c2b94-3a75-4b57-a359-2627a887f44f",
   "metadata": {},
   "outputs": [],
   "source": [
    "display_image(images[5], labels[5], label_names)"
   ]
  },
  {
   "cell_type": "code",
   "execution_count": null,
   "id": "20a0243a-ff05-45e8-aaf4-20bf59f6f79b",
   "metadata": {
    "scrolled": true
   },
   "outputs": [],
   "source": [
    "input_channels = 3\n",
    "output_channels = [16, 32, 64]\n",
    "blocks = 3\n",
    "input_kernel = 3\n",
    "classes = 10\n",
    "shortcut_method = \"projection\"\n",
    "batch_norm = True\n",
    "block_layers=2\n",
    "block_kernel_size=3\n",
    "\n",
    "model = Resnet(\n",
    "    n_classes=classes,\n",
    "    in_channels=input_channels, \n",
    "    out_channels=output_channels, \n",
    "    blocks=blocks,\n",
    "    input_kernel_size=input_kernel, \n",
    "    block_kernel_size=block_kernel_size,\n",
    "    block_layers=block_layers,\n",
    "    shortcut_method = shortcut_method,\n",
    "    batch_norm=batch_norm\n",
    ")\n",
    "model._init_weights()\n",
    "model"
   ]
  },
  {
   "cell_type": "code",
   "execution_count": null,
   "id": "717da8dd-3c67-4f82-8683-928546e22476",
   "metadata": {},
   "outputs": [],
   "source": [
    "x = torch.rand(3, input_channels, 32, 32)\n",
    "with torch.no_grad():\n",
    "    out = model(x)\n",
    "out.shape"
   ]
  },
  {
   "cell_type": "markdown",
   "id": "ce66cc32-51c3-4f0c-b451-f5ddc59a3939",
   "metadata": {},
   "source": [
    "## Data Preparation"
   ]
  },
  {
   "cell_type": "code",
   "execution_count": null,
   "id": "f428bd3d-b372-40fe-a270-f7ea875857cf",
   "metadata": {},
   "outputs": [],
   "source": [
    "# torch.manual_seed(42)\n",
    "# np.random.seed(42)"
   ]
  },
  {
   "cell_type": "code",
   "execution_count": null,
   "id": "a04bd680-5b5a-4124-a798-2a8239916a12",
   "metadata": {},
   "outputs": [],
   "source": [
    "train_images = np.load(\"../datasets/cifar-10-batches-py/train_images.npy\")\n",
    "train_labels = np.load(\"../datasets/cifar-10-batches-py/train_labels.npy\")\n",
    "test_images = np.load(\"../datasets/cifar-10-batches-py/test_images.npy\")\n",
    "test_labels = np.load(\"../datasets/cifar-10-batches-py/test_labels.npy\")\n",
    "train_images.shape, train_labels.shape, test_images.shape, test_labels.shape"
   ]
  },
  {
   "cell_type": "code",
   "execution_count": null,
   "id": "6ec3893a-11bd-490a-855a-d3e331a1e8c8",
   "metadata": {},
   "outputs": [],
   "source": [
    "# Split training dataset\n",
    "train_size = 45000\n",
    "shuffled_indexes = np.random.permutation(np.arange(len(train_labels)))\n",
    "train_indexes = shuffled_indexes[:train_size]\n",
    "val_indexes = shuffled_indexes[train_size:]\n",
    "\n",
    "train_images, val_images = train_images[train_indexes], train_images[val_indexes]\n",
    "train_labels, val_labels = train_labels[train_indexes], train_labels[val_indexes]"
   ]
  },
  {
   "cell_type": "code",
   "execution_count": null,
   "id": "a948f960-e13e-4e3e-b0a1-622143de3d25",
   "metadata": {},
   "outputs": [],
   "source": [
    "train_images.shape, train_labels.shape, val_images.shape, val_labels.shape, test_images.shape, test_labels.shape"
   ]
  },
  {
   "cell_type": "code",
   "execution_count": null,
   "id": "031bbb30-8284-4462-803e-eb6c3e11116c",
   "metadata": {},
   "outputs": [],
   "source": [
    "# Transforms follow CIFAR10 preprocessing in paper https://arxiv.org/pdf/1512.03385\n",
    "transforms = torchvision.transforms.Compose([\n",
    "    torchvision.transforms.ToTensor(),\n",
    "    torchvision.transforms.Normalize((0.5, 0.5, 0.5), (0.5, 0.5, 0.5)),\n",
    "    torchvision.transforms.Pad(4),\n",
    "    torchvision.transforms.RandomHorizontalFlip(p=0.5),\n",
    "    torchvision.transforms.RandomCrop((32, 32))\n",
    "])"
   ]
  },
  {
   "cell_type": "code",
   "execution_count": null,
   "id": "f95fafee-c0ad-4dde-922d-502ac081fbc6",
   "metadata": {},
   "outputs": [],
   "source": [
    "train_dataset = Cifar10DatasetFromArray(train_images, train_labels, transforms)\n",
    "val_dataset = Cifar10DatasetFromArray(val_images, val_labels, transforms)\n",
    "test_dataset = Cifar10DatasetFromArray(test_images, test_images, transforms=torchvision.transforms.ToTensor())"
   ]
  },
  {
   "cell_type": "code",
   "execution_count": null,
   "id": "0345956d-050a-4fd4-bd0d-7aebd8991c86",
   "metadata": {},
   "outputs": [],
   "source": [
    "batch_size = 128\n",
    "learning_rate = 0.1\n",
    "# lr scheduler manual\n",
    "# early stopping\n",
    "train_dl = DataLoader(train_dataset, batch_size=batch_size, shuffle=True)\n",
    "val_dl = DataLoader(val_dataset, batch_size=batch_size, shuffle=False)\n",
    "test_dl = DataLoader(test_dataset, batch_size=batch_size, shuffle=False)"
   ]
  },
  {
   "cell_type": "code",
   "execution_count": null,
   "id": "ed722c66-1c47-4916-b8d7-da7f1b8e0fc5",
   "metadata": {},
   "outputs": [],
   "source": [
    "iter_dl = iter(train_dl)"
   ]
  },
  {
   "cell_type": "code",
   "execution_count": null,
   "id": "7a241c25-4f79-4a87-a1f7-f482ed248587",
   "metadata": {},
   "outputs": [],
   "source": [
    "test_batch_images, test_batch_labels = next(iter_dl)\n",
    "print(test_batch_images.shape)\n",
    "\n",
    "with torch.no_grad():\n",
    "    out = model(test_batch_images)\n",
    "\n",
    "torch.argmax(out, dim=-1)"
   ]
  },
  {
   "cell_type": "markdown",
   "id": "0c1b382c-900a-4513-9190-a5684e61700c",
   "metadata": {},
   "source": [
    "## Training"
   ]
  },
  {
   "cell_type": "code",
   "execution_count": null,
   "id": "f60b587d-d829-4a42-9e03-c0d30da26973",
   "metadata": {},
   "outputs": [],
   "source": [
    "criterion = nn.CrossEntropyLoss()"
   ]
  },
  {
   "cell_type": "code",
   "execution_count": null,
   "id": "8f0f3fa1-4b95-447d-8980-4f7aa2c44d6e",
   "metadata": {},
   "outputs": [],
   "source": [
    "def check_accuracy(model, loader):\n",
    "    num_correct = 0\n",
    "    num_samples = 0\n",
    "    model.eval()\n",
    "    for X, y in loader:\n",
    "        scores = model(X)\n",
    "        _, preds = scores.data.cpu().max(1)\n",
    "\n",
    "        num_correct += (preds == y).sum()\n",
    "        num_samples += preds.size(0)\n",
    "\n",
    "    acc = float(num_correct) / num_samples\n",
    "\n",
    "def train(loader_train, model, criterion, optimizer):\n",
    "    model.train()\n",
    "    for t, (X, y) in enumerate(loader_train):\n",
    "        scores = model(X)\n",
    "        loss = criterion(scores, y)\n",
    "        print(loss)\n",
    "        optimizer.zero_grad()\n",
    "        loss.backward()\n",
    "        optimizer.step()"
   ]
  },
  {
   "cell_type": "code",
   "execution_count": null,
   "id": "9d8b5077-bc4a-4361-a780-05f47190949b",
   "metadata": {},
   "outputs": [],
   "source": [
    "for num_epochs in [50, 5, 5]:\n",
    "    print('Training for %d epochs with learning rate %f' % (num_epochs, learning_rate))\n",
    "    optimizer = optim.SGD(model.parameters(), lr=learning_rate,\n",
    "                          momentum=0.9, weight_decay=0.0001)\n",
    "    for epoch in range(num_epochs):\n",
    "        check_accuracy(model, val_dl)\n",
    "        print('Starting epoch %d / %d' % (epoch+1, num_epochs))\n",
    "        train(train_dl, model, criterion, optimizer)\n",
    "    learning_rate *= 0.1"
   ]
  },
  {
   "cell_type": "code",
   "execution_count": null,
   "id": "1a90a861-bd4b-4ece-add4-0c44e37eac17",
   "metadata": {},
   "outputs": [],
   "source": []
  }
 ],
 "metadata": {
  "kernelspec": {
   "display_name": "Python 3 (ipykernel)",
   "language": "python",
   "name": "python3"
  },
  "language_info": {
   "codemirror_mode": {
    "name": "ipython",
    "version": 3
   },
   "file_extension": ".py",
   "mimetype": "text/x-python",
   "name": "python",
   "nbconvert_exporter": "python",
   "pygments_lexer": "ipython3",
   "version": "3.12.0"
  }
 },
 "nbformat": 4,
 "nbformat_minor": 5
}
