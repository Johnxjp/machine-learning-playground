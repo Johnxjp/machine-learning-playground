{
 "cells": [
  {
   "cell_type": "code",
   "execution_count": 1,
   "id": "36ad3d3c-05c0-4d03-acc2-494efb4b78fa",
   "metadata": {},
   "outputs": [],
   "source": [
    "import torch\n",
    "import torch.nn as nn\n",
    "from model import Resnet, ResidualCNNLayer"
   ]
  },
  {
   "cell_type": "code",
   "execution_count": 2,
   "id": "20a0243a-ff05-45e8-aaf4-20bf59f6f79b",
   "metadata": {},
   "outputs": [],
   "source": [
    "image_size = 32\n",
    "input_channels = 3\n",
    "output_channels = [16, 32, 64]\n",
    "blocks = 3\n",
    "input_kernel = 3\n",
    "classes = 10\n",
    "\n",
    "model = Resnet(\n",
    "    image_size=image_size, \n",
    "    in_channels=input_channels, \n",
    "    out_channels=output_channels, \n",
    "    blocks=blocks, \n",
    "    input_kernel_size=input_kernel, \n",
    "    n_classes=classes\n",
    ")"
   ]
  },
  {
   "cell_type": "code",
   "execution_count": 3,
   "id": "3c2c16e9-729d-42af-8fc8-637db0fee95b",
   "metadata": {},
   "outputs": [
    {
     "data": {
      "text/plain": [
       "Resnet(\n",
       "  (first_conv): Conv2d(3, 16, kernel_size=(3, 3), stride=(1, 1), padding=(1, 1))\n",
       "  (residual_blocks): ModuleList(\n",
       "    (0-2): 3 x ResidualCNNLayer(\n",
       "      (layers): ModuleList(\n",
       "        (0): Conv2d(16, 16, kernel_size=(3, 3), stride=(1, 1), padding=(1, 1), bias=False)\n",
       "        (1): BatchNorm2d(16, eps=1e-05, momentum=0.1, affine=True, track_running_stats=True)\n",
       "        (2): Conv2d(16, 16, kernel_size=(3, 3), stride=(1, 1), padding=(1, 1), bias=False)\n",
       "        (3): BatchNorm2d(16, eps=1e-05, momentum=0.1, affine=True, track_running_stats=True)\n",
       "      )\n",
       "      (residual_projection): Identity()\n",
       "    )\n",
       "    (3): ResidualCNNLayer(\n",
       "      (layers): ModuleList(\n",
       "        (0): Conv2d(16, 32, kernel_size=(3, 3), stride=(2, 2), padding=(1, 1), bias=False)\n",
       "        (1): BatchNorm2d(32, eps=1e-05, momentum=0.1, affine=True, track_running_stats=True)\n",
       "        (2): Conv2d(32, 32, kernel_size=(3, 3), stride=(1, 1), padding=(1, 1), bias=False)\n",
       "        (3): BatchNorm2d(32, eps=1e-05, momentum=0.1, affine=True, track_running_stats=True)\n",
       "      )\n",
       "      (residual_projection): Conv2d(16, 32, kernel_size=(1, 1), stride=(2, 2))\n",
       "    )\n",
       "    (4-5): 2 x ResidualCNNLayer(\n",
       "      (layers): ModuleList(\n",
       "        (0): Conv2d(32, 32, kernel_size=(3, 3), stride=(1, 1), padding=(1, 1), bias=False)\n",
       "        (1): BatchNorm2d(32, eps=1e-05, momentum=0.1, affine=True, track_running_stats=True)\n",
       "        (2): Conv2d(32, 32, kernel_size=(3, 3), stride=(1, 1), padding=(1, 1), bias=False)\n",
       "        (3): BatchNorm2d(32, eps=1e-05, momentum=0.1, affine=True, track_running_stats=True)\n",
       "      )\n",
       "      (residual_projection): Identity()\n",
       "    )\n",
       "    (6): ResidualCNNLayer(\n",
       "      (layers): ModuleList(\n",
       "        (0): Conv2d(32, 64, kernel_size=(3, 3), stride=(2, 2), padding=(1, 1), bias=False)\n",
       "        (1): BatchNorm2d(64, eps=1e-05, momentum=0.1, affine=True, track_running_stats=True)\n",
       "        (2): Conv2d(64, 64, kernel_size=(3, 3), stride=(1, 1), padding=(1, 1), bias=False)\n",
       "        (3): BatchNorm2d(64, eps=1e-05, momentum=0.1, affine=True, track_running_stats=True)\n",
       "      )\n",
       "      (residual_projection): Conv2d(32, 64, kernel_size=(1, 1), stride=(2, 2))\n",
       "    )\n",
       "    (7-8): 2 x ResidualCNNLayer(\n",
       "      (layers): ModuleList(\n",
       "        (0): Conv2d(64, 64, kernel_size=(3, 3), stride=(1, 1), padding=(1, 1), bias=False)\n",
       "        (1): BatchNorm2d(64, eps=1e-05, momentum=0.1, affine=True, track_running_stats=True)\n",
       "        (2): Conv2d(64, 64, kernel_size=(3, 3), stride=(1, 1), padding=(1, 1), bias=False)\n",
       "        (3): BatchNorm2d(64, eps=1e-05, momentum=0.1, affine=True, track_running_stats=True)\n",
       "      )\n",
       "      (residual_projection): Identity()\n",
       "    )\n",
       "  )\n",
       "  (global_pool): AdaptiveAvgPool2d(output_size=(1, 1))\n",
       "  (out): LazyLinear(in_features=0, out_features=10, bias=True)\n",
       ")"
      ]
     },
     "execution_count": 3,
     "metadata": {},
     "output_type": "execute_result"
    }
   ],
   "source": [
    "model"
   ]
  },
  {
   "cell_type": "code",
   "execution_count": 4,
   "id": "51531cbf-77e1-469f-9797-4bf04deb1294",
   "metadata": {},
   "outputs": [
    {
     "data": {
      "text/plain": [
       "torch.Size([3, 3, 32, 32])"
      ]
     },
     "execution_count": 4,
     "metadata": {},
     "output_type": "execute_result"
    }
   ],
   "source": [
    "x = torch.rand(3, input_channels, image_size, image_size)\n",
    "x.shape"
   ]
  },
  {
   "cell_type": "code",
   "execution_count": 6,
   "id": "717da8dd-3c67-4f82-8683-928546e22476",
   "metadata": {},
   "outputs": [
    {
     "data": {
      "text/plain": [
       "torch.Size([3, 10])"
      ]
     },
     "execution_count": 6,
     "metadata": {},
     "output_type": "execute_result"
    }
   ],
   "source": [
    "out = model(x)\n",
    "out.shape"
   ]
  },
  {
   "cell_type": "code",
   "execution_count": 7,
   "id": "ef9da262-6d2d-4c82-9cef-ffa7f394891f",
   "metadata": {},
   "outputs": [
    {
     "data": {
      "text/plain": [
       "Conv2d(3, 16, kernel_size=(3, 3), stride=(1, 1), padding=(1, 1))"
      ]
     },
     "execution_count": 7,
     "metadata": {},
     "output_type": "execute_result"
    }
   ],
   "source": [
    "conv1 = nn.Conv2d(3, 16, kernel_size=3, stride=1, padding=1)\n",
    "conv1"
   ]
  },
  {
   "cell_type": "code",
   "execution_count": 8,
   "id": "1817e4c6-599a-4d08-88f5-ce134e47c2f5",
   "metadata": {},
   "outputs": [
    {
     "data": {
      "text/plain": [
       "torch.Size([3, 16, 32, 32])"
      ]
     },
     "execution_count": 8,
     "metadata": {},
     "output_type": "execute_result"
    }
   ],
   "source": [
    "x = torch.rand(3, input_channels, image_size, image_size)\n",
    "conv1(x).shape"
   ]
  },
  {
   "cell_type": "code",
   "execution_count": 9,
   "id": "a099e573-b071-493d-8468-d7cc6960cc02",
   "metadata": {},
   "outputs": [
    {
     "ename": "TypeError",
     "evalue": "ResidualCNNLayer.__init__() got an unexpected keyword argument 'downsample'",
     "output_type": "error",
     "traceback": [
      "\u001b[31m---------------------------------------------------------------------------\u001b[39m",
      "\u001b[31mTypeError\u001b[39m                                 Traceback (most recent call last)",
      "\u001b[36mCell\u001b[39m\u001b[36m \u001b[39m\u001b[32mIn[9]\u001b[39m\u001b[32m, line 1\u001b[39m\n\u001b[32m----> \u001b[39m\u001b[32m1\u001b[39m reslayer1 = \u001b[43mResidualCNNLayer\u001b[49m\u001b[43m(\u001b[49m\u001b[32;43m16\u001b[39;49m\u001b[43m,\u001b[49m\u001b[43m \u001b[49m\u001b[32;43m3\u001b[39;49m\u001b[43m,\u001b[49m\u001b[43m \u001b[49m\u001b[32;43m2\u001b[39;49m\u001b[43m,\u001b[49m\u001b[43m \u001b[49m\u001b[43mdownsample\u001b[49m\u001b[43m=\u001b[49m\u001b[38;5;28;43;01mFalse\u001b[39;49;00m\u001b[43m)\u001b[49m\n\u001b[32m      2\u001b[39m reslayer2 = ResidualCNNLayer(\u001b[32m16\u001b[39m, \u001b[32m3\u001b[39m, \u001b[32m2\u001b[39m, downsample=\u001b[38;5;28;01mTrue\u001b[39;00m)\n\u001b[32m      3\u001b[39m reslayer3 = ResidualCNNLayer(\u001b[32m32\u001b[39m, \u001b[32m3\u001b[39m, \u001b[32m2\u001b[39m, downsample=\u001b[38;5;28;01mTrue\u001b[39;00m)\n",
      "\u001b[31mTypeError\u001b[39m: ResidualCNNLayer.__init__() got an unexpected keyword argument 'downsample'"
     ]
    }
   ],
   "source": [
    "reslayer1 = ResidualCNNLayer(16, 3, 2, downsample=False)\n",
    "reslayer2 = ResidualCNNLayer(16, 3, 2, downsample=True)\n",
    "reslayer3 = ResidualCNNLayer(32, 3, 2, downsample=True)"
   ]
  },
  {
   "cell_type": "code",
   "execution_count": 33,
   "id": "cf70c30d-1967-4464-9301-68b3d279f40f",
   "metadata": {},
   "outputs": [
    {
     "name": "stdout",
     "output_type": "stream",
     "text": [
      "torch.Size([3, 16, 32, 32])\n",
      "torch.Size([3, 32, 16, 16])\n"
     ]
    }
   ],
   "source": [
    "x = torch.rand(3, input_channels, image_size, image_size)\n",
    "x = conv1(x)\n",
    "x = reslayer1(x)\n",
    "print(x.shape)\n",
    "x = reslayer2(x)\n",
    "print(x.shape)\n",
    "x = reslayer3(x)"
   ]
  },
  {
   "cell_type": "code",
   "execution_count": 34,
   "id": "0263bc76-fab8-48eb-89ab-77b4d6165b3e",
   "metadata": {},
   "outputs": [
    {
     "data": {
      "text/plain": [
       "torch.Size([3, 64, 8, 8])"
      ]
     },
     "execution_count": 34,
     "metadata": {},
     "output_type": "execute_result"
    }
   ],
   "source": [
    "x.shape"
   ]
  },
  {
   "cell_type": "code",
   "execution_count": null,
   "id": "daa35ab0-8489-4ca4-a42b-d8aab0e276e2",
   "metadata": {},
   "outputs": [],
   "source": []
  }
 ],
 "metadata": {
  "kernelspec": {
   "display_name": "Python 3 (ipykernel)",
   "language": "python",
   "name": "python3"
  },
  "language_info": {
   "codemirror_mode": {
    "name": "ipython",
    "version": 3
   },
   "file_extension": ".py",
   "mimetype": "text/x-python",
   "name": "python",
   "nbconvert_exporter": "python",
   "pygments_lexer": "ipython3",
   "version": "3.12.0"
  }
 },
 "nbformat": 4,
 "nbformat_minor": 5
}
